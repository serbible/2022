{
  "nbformat": 4,
  "nbformat_minor": 0,
  "metadata": {
    "colab": {
      "provenance": [],
      "collapsed_sections": [
        "k2ulWwXXlIl8",
        "bVEmheaVsfb-",
        "ZZo_KUGc2vcb",
        "Q7nGnhavkTta",
        "rPXrOqw23eYk",
        "MjEH32hddNoh",
        "F6_6KAM-31QN",
        "PW5uDK2z4uSS",
        "_zM17gMJ5t5p",
        "pz4G7EFCT3ow",
        "sn96Y4ue8eIh",
        "EXgwKIeQ9LSc",
        "bcxCI9tCvzAU",
        "j7bxnMRkCvee",
        "xwknzPFZqLC9",
        "m8UUcfokqNDe",
        "EmP4p9izqREt",
        "XoOMduOnwAGU"
      ],
      "include_colab_link": true
    },
    "kernelspec": {
      "name": "python3",
      "display_name": "Python 3"
    },
    "language_info": {
      "name": "python"
    }
  },
  "cells": [
    {
      "cell_type": "markdown",
      "metadata": {
        "id": "view-in-github",
        "colab_type": "text"
      },
      "source": [
        "<a href=\"https://colab.research.google.com/github/serbible/2022/blob/master/1_python_ipynb%EC%9D%98_%EC%82%AC%EB%B3%B8.ipynb\" target=\"_parent\"><img src=\"https://colab.research.google.com/assets/colab-badge.svg\" alt=\"Open In Colab\"/></a>"
      ]
    },
    {
      "cell_type": "markdown",
      "metadata": {
        "id": "k2ulWwXXlIl8"
      },
      "source": [
        "# 파이썬(python)\n",
        "- 노트북 링크: bit.ly/3Fm2u3Q (Drive로 복사)\n",
        "- 실행: 실행 아이콘 또는 Shift + Enter"
      ]
    },
    {
      "cell_type": "markdown",
      "metadata": {
        "id": "bVEmheaVsfb-"
      },
      "source": [
        "# 데이터 분석을 위한 파이썬 기초1"
      ]
    },
    {
      "cell_type": "markdown",
      "metadata": {
        "id": "s8BrOHmkQtse"
      },
      "source": [
        "- 직접 타이핑 하면서 학습\n",
        "- 본인 속도에 맞게 동영상 속도 조절"
      ]
    },
    {
      "cell_type": "markdown",
      "metadata": {
        "id": "ZZo_KUGc2vcb"
      },
      "source": [
        "## 출력\n",
        "- print괄호 안에 숫자 또는 문자 (단 문자일 경우 ' 또는 \" 활용)"
      ]
    },
    {
      "cell_type": "code",
      "metadata": {
        "id": "LaqOXQChbEHz"
      },
      "source": [
        "# 숫자\n",
        "# print(2022)"
      ],
      "execution_count": 1,
      "outputs": []
    },
    {
      "cell_type": "code",
      "metadata": {
        "id": "ws_KrsY5215g"
      },
      "source": [
        "# 문자 (큰따옴표)\n",
        "# print(\"happy\")"
      ],
      "execution_count": 2,
      "outputs": []
    },
    {
      "cell_type": "code",
      "metadata": {
        "id": "I72rwMzUl0ru"
      },
      "source": [
        "# 문자 (작은따옴표)\n",
        "# print('happy')"
      ],
      "execution_count": 3,
      "outputs": []
    },
    {
      "cell_type": "markdown",
      "metadata": {
        "id": "Q7nGnhavkTta"
      },
      "source": [
        "## 주석\n",
        "- #을 앞에 사용하면 #뒤에 줄(내용)은 무시함"
      ]
    },
    {
      "cell_type": "code",
      "metadata": {
        "id": "azuDs-2YkTGj"
      },
      "source": [
        "# 주석입니다.\n",
        "# print(\"파이썬 공부 중\") # 출력문 \n",
        "# print(\"파이썬은 쉽다\") "
      ],
      "execution_count": 4,
      "outputs": []
    },
    {
      "cell_type": "markdown",
      "metadata": {
        "id": "qpEqrNy3k0WZ"
      },
      "source": [
        "- 한 줄만 주석 처리(해제) : Ctrl + / (맥 Command + /)\n",
        "- 여러 줄 주석 처리(해제) : 블록지정 후 Ctrl + / (맥 Command + /)"
      ]
    },
    {
      "cell_type": "markdown",
      "metadata": {
        "id": "rPXrOqw23eYk"
      },
      "source": [
        "## 산술연산자\n",
        "- +, -, *, /\n",
        "- //, %, **"
      ]
    },
    {
      "cell_type": "code",
      "metadata": {
        "id": "kL1pwn9g3gSM"
      },
      "source": [
        "# 정수 + 정수\n",
        "# print(1+2)"
      ],
      "execution_count": 5,
      "outputs": []
    },
    {
      "cell_type": "code",
      "metadata": {
        "id": "o9T6KKrC3gVj"
      },
      "source": [
        "# 실수 + 정수\n",
        "# print(3.44+5)"
      ],
      "execution_count": 6,
      "outputs": []
    },
    {
      "cell_type": "code",
      "metadata": {
        "id": "QSZeZ8D-3gZQ"
      },
      "source": [
        "# 문자열 더하기(합친다)\n",
        "# print(\"he\" + \"llo\")"
      ],
      "execution_count": 7,
      "outputs": []
    },
    {
      "cell_type": "code",
      "metadata": {
        "id": "aEqCTZCfs7zB"
      },
      "source": [
        "# 몫\n",
        "# 16//3"
      ],
      "execution_count": 8,
      "outputs": []
    },
    {
      "cell_type": "code",
      "metadata": {
        "id": "tLhgikIPs_g5"
      },
      "source": [
        "# 나머지\n",
        "# 16%3"
      ],
      "execution_count": 9,
      "outputs": []
    },
    {
      "cell_type": "code",
      "metadata": {
        "id": "ORtvddjetFxD"
      },
      "source": [
        "# 제곱\n",
        "# 4**2"
      ],
      "execution_count": 10,
      "outputs": []
    },
    {
      "cell_type": "markdown",
      "metadata": {
        "id": "MjEH32hddNoh"
      },
      "source": [
        "## 자료형(타입)\n",
        "- 정수형: int\n",
        "- 실수형: float\n",
        "- 문자열: str\n",
        "- 참/거짓: bool"
      ]
    },
    {
      "cell_type": "code",
      "metadata": {
        "id": "Xx1sQev5dOuO"
      },
      "source": [
        "# 정수형\n",
        "# type(1)"
      ],
      "execution_count": 11,
      "outputs": []
    },
    {
      "cell_type": "code",
      "metadata": {
        "id": "SBbgexcCdVUH"
      },
      "source": [
        "# 실수형\n",
        "# type(1.1) "
      ],
      "execution_count": 12,
      "outputs": []
    },
    {
      "cell_type": "code",
      "metadata": {
        "id": "KdElWU6bdWj6"
      },
      "source": [
        "# 문자열\n",
        "# type('hello')\n",
        "# type('3')"
      ],
      "execution_count": 13,
      "outputs": []
    },
    {
      "cell_type": "code",
      "metadata": {
        "id": "aM8UgBYSmeEg"
      },
      "source": [
        "# 참/거짓\n",
        "# type(True)  \n",
        "# type(False)"
      ],
      "execution_count": 14,
      "outputs": []
    },
    {
      "cell_type": "markdown",
      "metadata": {
        "id": "F6_6KAM-31QN"
      },
      "source": [
        "## 변수"
      ]
    },
    {
      "cell_type": "code",
      "metadata": {
        "id": "6ouKLr5z334V"
      },
      "source": [
        "# box변수 값에 10 대입\n",
        "# box = 10  "
      ],
      "execution_count": 15,
      "outputs": []
    },
    {
      "cell_type": "code",
      "metadata": {
        "id": "hnIbRIsv339m"
      },
      "source": [
        "# box변수 값 출력\n",
        "# print(box) "
      ],
      "execution_count": 16,
      "outputs": []
    },
    {
      "cell_type": "code",
      "metadata": {
        "id": "lqmZl6Bd34At"
      },
      "source": [
        "# box2변수 값에 20 대입\n",
        "# box2 = 20 "
      ],
      "execution_count": 17,
      "outputs": []
    },
    {
      "cell_type": "code",
      "metadata": {
        "id": "KMUvATVm34Dw"
      },
      "source": [
        "# 변수(10) + 변수(20)\n",
        "# print(box + box2)  "
      ],
      "execution_count": 18,
      "outputs": []
    },
    {
      "cell_type": "code",
      "metadata": {
        "id": "lFcDCOQT5P1A"
      },
      "source": [
        "# 30 = 10 + 20\n",
        "# box3 = box + box2  \n",
        "# print(box3)"
      ],
      "execution_count": 19,
      "outputs": []
    },
    {
      "cell_type": "code",
      "metadata": {
        "id": "UiCS5dfD9o8I"
      },
      "source": [
        "# 20 = 10 + 10 \n",
        "# box = box + box  \n",
        "# print(box)"
      ],
      "execution_count": 20,
      "outputs": []
    },
    {
      "cell_type": "markdown",
      "metadata": {
        "id": "PW5uDK2z4uSS"
      },
      "source": [
        "##  형변환"
      ]
    },
    {
      "cell_type": "code",
      "metadata": {
        "id": "egzIOnas4wxd"
      },
      "source": [
        "# str(문자)\n",
        "# box = \"15\"\n",
        "# type(box)"
      ],
      "execution_count": 21,
      "outputs": []
    },
    {
      "cell_type": "code",
      "metadata": {
        "id": "CPIKv_bFp3Yu"
      },
      "source": [
        "# str -> int(숫자)\n",
        "# box = int(box) + 10\n",
        "# type(box)"
      ],
      "execution_count": 22,
      "outputs": []
    },
    {
      "cell_type": "code",
      "metadata": {
        "id": "n17X9ikmqDn7"
      },
      "source": [
        "# type(str(box))\n",
        "# box = \"60\"\n",
        "# int(box)"
      ],
      "execution_count": 23,
      "outputs": []
    },
    {
      "cell_type": "markdown",
      "metadata": {
        "id": "_zM17gMJ5t5p"
      },
      "source": [
        "## 비교연산자"
      ]
    },
    {
      "cell_type": "code",
      "metadata": {
        "id": "fE2S36lStvaa"
      },
      "source": [
        "# 크다(참)\n",
        "# 10 > 5"
      ],
      "execution_count": 24,
      "outputs": []
    },
    {
      "cell_type": "code",
      "metadata": {
        "id": "tD-UPP7D5GYL"
      },
      "source": [
        "# 작다\n",
        "# 10 < 5"
      ],
      "execution_count": 25,
      "outputs": []
    },
    {
      "cell_type": "code",
      "metadata": {
        "id": "rfrS5wNA5jig"
      },
      "source": [
        "# 같거나 크다\n",
        "# 10 >= 5"
      ],
      "execution_count": 26,
      "outputs": []
    },
    {
      "cell_type": "code",
      "metadata": {
        "id": "lIUab7Mq5Ghf"
      },
      "source": [
        "# 같다\n",
        "# 10 == 10  "
      ],
      "execution_count": 27,
      "outputs": []
    },
    {
      "cell_type": "code",
      "metadata": {
        "id": "_6kQowYCguce"
      },
      "source": [
        "# 같지 않다\n",
        "# 10 != 5"
      ],
      "execution_count": 28,
      "outputs": []
    },
    {
      "cell_type": "code",
      "metadata": {
        "id": "Ih3z-dslAF1Z"
      },
      "source": [
        "# 같다\n",
        "# a = 10\n",
        "# b = 10\n",
        "# a == b"
      ],
      "execution_count": 29,
      "outputs": []
    },
    {
      "cell_type": "code",
      "metadata": {
        "id": "jUrfhIkmAF-K"
      },
      "source": [
        "# 같거나 크다\n",
        "# a >= b"
      ],
      "execution_count": 30,
      "outputs": []
    },
    {
      "cell_type": "code",
      "metadata": {
        "id": "9g11nbHVAGGx"
      },
      "source": [
        "# False\n",
        "# a > b"
      ],
      "execution_count": 31,
      "outputs": []
    },
    {
      "cell_type": "code",
      "metadata": {
        "id": "3vb1GxkZUJDk"
      },
      "source": [
        "# c = \"빅데이터\"\n",
        "# d = \"빅데이터\"\n",
        "# e = \"데이터\"\n",
        "\n",
        "# print(c == d)\n",
        "# print(d == e)"
      ],
      "execution_count": 32,
      "outputs": []
    },
    {
      "cell_type": "markdown",
      "metadata": {
        "id": "pz4G7EFCT3ow"
      },
      "source": [
        "## 조건문"
      ]
    },
    {
      "cell_type": "markdown",
      "metadata": {
        "id": "LQzrn00LhzhK"
      },
      "source": [
        "- 들여쓰기: tab\n",
        "- 내어쓰기: shift + tab"
      ]
    },
    {
      "cell_type": "code",
      "metadata": {
        "id": "MeetgWilCY_K"
      },
      "source": [
        "# if True:\n",
        "#     print(\"참입니다\")"
      ],
      "execution_count": 33,
      "outputs": []
    },
    {
      "cell_type": "code",
      "metadata": {
        "id": "G2APl1mxDlJ_"
      },
      "source": [
        "# if False:\n",
        "#     print(\"실행안됨\")"
      ],
      "execution_count": 34,
      "outputs": []
    },
    {
      "cell_type": "code",
      "metadata": {
        "id": "kIu_ng9Kr_Z4"
      },
      "source": [
        "# box = 10\n",
        "# if box < 5:\n",
        "#     print(\"box가 크다\")"
      ],
      "execution_count": 35,
      "outputs": []
    },
    {
      "cell_type": "code",
      "metadata": {
        "id": "4T30Y4NN5uD6"
      },
      "source": [
        "# box = 1\n",
        "\n",
        "# if box == 10:\n",
        "#     print(\"box는 10입니다\")\n",
        "#     print(\"box\")\n",
        "# else:\n",
        "#     print(\"box는 10이 아닙니다.\")"
      ],
      "execution_count": 36,
      "outputs": []
    },
    {
      "cell_type": "code",
      "metadata": {
        "id": "ivMOAhUe5uKF"
      },
      "source": [
        "# box = 5\n",
        "\n",
        "# if box >= 10:\n",
        "#     print(\"box는 10 이상입니다.\")\n",
        "# else:\n",
        "#     print(\"box는 10 미만입니다.\")"
      ],
      "execution_count": 37,
      "outputs": []
    },
    {
      "cell_type": "code",
      "metadata": {
        "id": "WtZ_KIo5LHs1"
      },
      "source": [
        "# box = 2\n",
        "\n",
        "# if box >= 10:\n",
        "#     print(\"box는 10 이상입니다.\")\n",
        "# elif box < 10 and box >= 5:\n",
        "#     print(\"box는 5 이상 10 미만입니다.\")\n",
        "# else:\n",
        "#     print(\"box는 5 미만입니다.\")"
      ],
      "execution_count": 38,
      "outputs": []
    },
    {
      "cell_type": "code",
      "metadata": {
        "id": "XHZWWFTT5uNO"
      },
      "source": [
        "# box = 2\n",
        "\n",
        "# if box >= 10:\n",
        "#     print(\"box는 10 이상입니다.\")\n",
        "# elif box < 10 and box >= 5:\n",
        "#     print(\"box는 5 이상 10 미만입니다.\")\n",
        "# elif box < 4 and box >= 3:\n",
        "#     print(\"box는 3 이상 4 미만입니다.\")\n",
        "# else:\n",
        "#     print(\"box는 2 이하입니다.\")"
      ],
      "execution_count": 39,
      "outputs": []
    },
    {
      "cell_type": "markdown",
      "metadata": {
        "id": "p8g4MHmalw_S"
      },
      "source": [
        "# 데이터 분석을 위한 파이썬 기초2"
      ]
    },
    {
      "cell_type": "markdown",
      "metadata": {
        "id": "sn96Y4ue8eIh"
      },
      "source": [
        "## 리스트"
      ]
    },
    {
      "cell_type": "code",
      "metadata": {
        "id": "O_XKnj1DfKac"
      },
      "source": [
        "# 여러개의 값을 담을 때 여러개의 변수 사용?\n",
        "# box1 = 4\n",
        "# box2 = 2\n",
        "# box3 = 10\n",
        "# box4 = 6\n",
        "# box5 = 8"
      ],
      "execution_count": null,
      "outputs": []
    },
    {
      "cell_type": "code",
      "metadata": {
        "id": "VZhB5Wyj5uQ9"
      },
      "source": [
        "# 리스트 변수\n",
        "# listbox = [4,2,10,6,8]\n",
        "# print(listbox)"
      ],
      "execution_count": null,
      "outputs": []
    },
    {
      "cell_type": "code",
      "metadata": {
        "id": "yv3-b_gwOwjW"
      },
      "source": [
        "# type\n",
        "# type(listbox)"
      ],
      "execution_count": null,
      "outputs": []
    },
    {
      "cell_type": "code",
      "metadata": {
        "id": "C6aj7SJl5uTh"
      },
      "source": [
        "# 문자열\n",
        "# listbox = ['네모','세모','동그라미']\n",
        "# print(listbox)"
      ],
      "execution_count": null,
      "outputs": []
    },
    {
      "cell_type": "code",
      "metadata": {
        "id": "ZZ3IhUFf-4wv"
      },
      "source": [
        "# 추가\n",
        "# listbox.append('별')\n",
        "# print(listbox)"
      ],
      "execution_count": null,
      "outputs": []
    },
    {
      "cell_type": "code",
      "metadata": {
        "id": "ZculDc6Td-_0"
      },
      "source": [
        "# listbox = [4,2,10,6,8]\n",
        "# listbox = ['네모','세모','동그라미']\n",
        "# listbox.sort()\n",
        "# listbox"
      ],
      "execution_count": null,
      "outputs": []
    },
    {
      "cell_type": "markdown",
      "metadata": {
        "id": "sMaNulq9AeuE"
      },
      "source": [
        "## 딕셔너리(Dictionary)"
      ]
    },
    {
      "cell_type": "code",
      "metadata": {
        "id": "lzuN0U8IAg_A"
      },
      "source": [
        "# 딕셔너리\n",
        "# dictbox = {'name':'네모', 'level': 5}\n",
        "# print(dictbox)"
      ],
      "execution_count": null,
      "outputs": []
    },
    {
      "cell_type": "code",
      "metadata": {
        "id": "W48Flt_fPzPl"
      },
      "source": [
        "# type\n",
        "# type(dictbox)"
      ],
      "execution_count": null,
      "outputs": []
    },
    {
      "cell_type": "code",
      "metadata": {
        "id": "0GHQkolTAhBz"
      },
      "source": [
        "# 키(key)로 값 출력하기\n",
        "# print(dictbox['name'])\n",
        "# print(dictbox['level'])"
      ],
      "execution_count": null,
      "outputs": []
    },
    {
      "cell_type": "code",
      "metadata": {
        "id": "K2aPJAQEzqoW"
      },
      "source": [
        "# 값 변경하기\n",
        "# dictbox['level'] = 6\n",
        "# dictbox['level']"
      ],
      "execution_count": null,
      "outputs": []
    },
    {
      "cell_type": "code",
      "metadata": {
        "id": "o0WZq19xzyyk"
      },
      "source": [
        "# 키 값\n",
        "# dictbox.keys()"
      ],
      "execution_count": null,
      "outputs": []
    },
    {
      "cell_type": "code",
      "metadata": {
        "id": "Fo8xrNgmz4kX"
      },
      "source": [
        "# 밸류 값\n",
        "# dictbox.values()"
      ],
      "execution_count": null,
      "outputs": []
    },
    {
      "cell_type": "markdown",
      "metadata": {
        "id": "tHba7NxMsY-r"
      },
      "source": [
        "## 인덱싱과 슬라이싱"
      ]
    },
    {
      "cell_type": "code",
      "metadata": {
        "id": "X3jgCz-KXAHt"
      },
      "source": [
        "# listbox = [2,4,6,8,10]\n",
        "\n",
        "# list[index] 원소 값\n",
        "# print(listbox[0])  # index 첫번째 값\n",
        "# print(listbox[3])  # index 3 (네번째)"
      ],
      "execution_count": null,
      "outputs": []
    },
    {
      "cell_type": "code",
      "metadata": {
        "id": "lmi4cQp-memb"
      },
      "source": [
        "# index 마지막 값\n",
        "# print(listbox[-1])  "
      ],
      "execution_count": null,
      "outputs": []
    },
    {
      "cell_type": "code",
      "metadata": {
        "id": "wrjMxzGosXZ-"
      },
      "source": [
        "# list[start:stop]\n",
        "# index 0부터 2까지\n",
        "# print(listbox[0:3])  "
      ],
      "execution_count": null,
      "outputs": []
    },
    {
      "cell_type": "code",
      "metadata": {
        "id": "GFY0NdKSW5A-"
      },
      "source": [
        "\n",
        "# index 3부터 끝까지\n",
        "# print(listbox[3:])  "
      ],
      "execution_count": null,
      "outputs": []
    },
    {
      "cell_type": "code",
      "metadata": {
        "id": "-fnC4D-HW5E2"
      },
      "source": [
        "# index 1부터 2까지\n",
        "# print(listbox[1:3]) "
      ],
      "execution_count": null,
      "outputs": []
    },
    {
      "cell_type": "code",
      "metadata": {
        "id": "3l7vc-WEmEjL"
      },
      "source": [
        "# list[start:stop:step]\n",
        "# index 처음부터 끝까지, 한칸 건너띄기\n",
        "# listbox[::2]  "
      ],
      "execution_count": null,
      "outputs": []
    },
    {
      "cell_type": "markdown",
      "metadata": {
        "id": "88qGNAwFU36g"
      },
      "source": [
        "## 내장 함수"
      ]
    },
    {
      "cell_type": "code",
      "metadata": {
        "id": "r4mkP9Q0VWay"
      },
      "source": [
        "# 합계\n",
        "# listbox = [4,2,10,6,8]\n",
        "# sum(listbox)"
      ],
      "execution_count": null,
      "outputs": []
    },
    {
      "cell_type": "code",
      "metadata": {
        "id": "KesjV3w0U774"
      },
      "source": [
        "# 최대값\n",
        "# max(listbox)"
      ],
      "execution_count": null,
      "outputs": []
    },
    {
      "cell_type": "code",
      "metadata": {
        "id": "qlxoqmVrVmIi"
      },
      "source": [
        "# 최소값\n",
        "# min(listbox)"
      ],
      "execution_count": null,
      "outputs": []
    },
    {
      "cell_type": "code",
      "metadata": {
        "id": "nWOmvtLrVjvN"
      },
      "source": [
        "# 길이(갯수)\n",
        "# len(listbox)"
      ],
      "execution_count": null,
      "outputs": []
    },
    {
      "cell_type": "code",
      "metadata": {
        "id": "UfHaZY7Y1Cf8"
      },
      "source": [
        "# 반올림\n",
        "# round(1.2345, 2)\n",
        "# round(1.2375, 2)"
      ],
      "execution_count": null,
      "outputs": []
    },
    {
      "cell_type": "markdown",
      "metadata": {
        "id": "60a8CfviXNzB"
      },
      "source": [
        "## 문자열 "
      ]
    },
    {
      "cell_type": "markdown",
      "metadata": {
        "id": "GC88pkXCVtXW"
      },
      "source": [
        "### 문자열 변경"
      ]
    },
    {
      "cell_type": "code",
      "metadata": {
        "id": "4v6OZg0beGNn"
      },
      "source": [
        "# 한 단어 변경\n",
        "# text = \"빅데이터 분석기사 파이썬 공부\"\n",
        "# text = text.replace(\"공부\",\"스터디\")\n",
        "# text"
      ],
      "execution_count": null,
      "outputs": []
    },
    {
      "cell_type": "code",
      "metadata": {
        "id": "TWaRdm59euuw"
      },
      "source": [
        "# 여러 단어 변경\n",
        "# text = \"빅데이터 분석기사 파이썬 공부\"\n",
        "# text = text.replace(\"파이썬\",\"머신러닝\").replace(\"분석기사\",\"분석을 위한\")\n",
        "# text"
      ],
      "execution_count": null,
      "outputs": []
    },
    {
      "cell_type": "markdown",
      "metadata": {
        "id": "tJ4TMr1Zr3uk"
      },
      "source": [
        "### 문자열 슬라이싱"
      ]
    },
    {
      "cell_type": "code",
      "metadata": {
        "id": "i8nqO6HRr6Rp"
      },
      "source": [
        "text = \"안녕하세요 퇴근후딴짓입니다.\""
      ],
      "execution_count": null,
      "outputs": []
    },
    {
      "cell_type": "code",
      "metadata": {
        "id": "dNByNy7br6VV"
      },
      "source": [
        "# 문자열 슬라이싱\n",
        "# text[:2]"
      ],
      "execution_count": null,
      "outputs": []
    },
    {
      "cell_type": "code",
      "metadata": {
        "id": "-Gn-Q-m2sOG7"
      },
      "source": [
        "# 월-일\n",
        "# date = \"2022-12-25\"\n",
        "# date[5:]"
      ],
      "execution_count": null,
      "outputs": []
    },
    {
      "cell_type": "markdown",
      "metadata": {
        "id": "O1QnE6ZaliuP"
      },
      "source": [
        "## 슬라이싱 연습"
      ]
    },
    {
      "cell_type": "code",
      "metadata": {
        "id": "XfmS7lTjsY-H"
      },
      "source": [
        "# 월만 출력\n",
        "# date = \"2022-12-25\"\n",
        "# date[5:7]"
      ],
      "execution_count": null,
      "outputs": []
    },
    {
      "cell_type": "code",
      "metadata": {
        "id": "veDH5XwYixWa"
      },
      "source": [
        "listbox = [\"감사\", \"행복\", \"사랑\", \"습관\", \"긍정\", \"변화\", \"성장\", \"공감\", \"희망\"]\n",
        "listbox"
      ],
      "execution_count": null,
      "outputs": []
    },
    {
      "cell_type": "code",
      "metadata": {
        "id": "rfSu6rBmyLy2"
      },
      "source": [
        "# 갯 수\n"
      ],
      "execution_count": null,
      "outputs": []
    },
    {
      "cell_type": "code",
      "metadata": {
        "id": "MnDYQUT9yL34"
      },
      "source": [
        "# 첫번째 값\n"
      ],
      "execution_count": null,
      "outputs": []
    },
    {
      "cell_type": "code",
      "metadata": {
        "id": "5rLvXDMRyL7P"
      },
      "source": [
        "# 마지막 값\n"
      ],
      "execution_count": null,
      "outputs": []
    },
    {
      "cell_type": "code",
      "metadata": {
        "id": "rHQxUcJ5yL-H"
      },
      "source": [
        "# 처음부터 세번째 값까지\n"
      ],
      "execution_count": null,
      "outputs": []
    },
    {
      "cell_type": "code",
      "metadata": {
        "id": "BagzzxLTyMAv"
      },
      "source": [
        "# 마지막 앞 단어\n"
      ],
      "execution_count": null,
      "outputs": []
    },
    {
      "cell_type": "code",
      "metadata": {
        "id": "mvN74XUIyMDq"
      },
      "source": [
        "# 행복과 사랑만 출력\n"
      ],
      "execution_count": null,
      "outputs": []
    },
    {
      "cell_type": "markdown",
      "metadata": {
        "id": "TO3l-lN_yMqM"
      },
      "source": [
        "### 풀이"
      ]
    },
    {
      "cell_type": "code",
      "metadata": {
        "id": "lPFvMHhVuGZ0"
      },
      "source": [
        "# 갯 수\n",
        "# len(listbox)"
      ],
      "execution_count": null,
      "outputs": []
    },
    {
      "cell_type": "code",
      "metadata": {
        "id": "xeDlrQnHuZu8"
      },
      "source": [
        "# 첫번째 값\n",
        "# listbox[0]"
      ],
      "execution_count": null,
      "outputs": []
    },
    {
      "cell_type": "code",
      "metadata": {
        "id": "X9ekhyU3vIng"
      },
      "source": [
        "# 마지막 값\n",
        "# listbox[-1]"
      ],
      "execution_count": null,
      "outputs": []
    },
    {
      "cell_type": "code",
      "metadata": {
        "id": "E77pYhgsuV4C"
      },
      "source": [
        "# 처음부터 세번째 값까지\n",
        "# listbox[:3]"
      ],
      "execution_count": null,
      "outputs": []
    },
    {
      "cell_type": "code",
      "metadata": {
        "id": "Lnr-3gUhuKhB"
      },
      "source": [
        "# 마지막 앞 단어\n",
        "# listbox[7:8]\n",
        "# listbox[7:-1]\n",
        "# listbox[-2:-1]"
      ],
      "execution_count": null,
      "outputs": []
    },
    {
      "cell_type": "code",
      "metadata": {
        "id": "C_P8l56RvQuB"
      },
      "source": [
        "# 행복과 사랑만 출력\n",
        "# listbox[1:3]"
      ],
      "execution_count": null,
      "outputs": []
    },
    {
      "cell_type": "markdown",
      "metadata": {
        "id": "bXgmN4vtiO03"
      },
      "source": [
        "# 자주 활용되는 파이썬 예제"
      ]
    },
    {
      "cell_type": "markdown",
      "metadata": {
        "id": "EXgwKIeQ9LSc"
      },
      "source": [
        "## 반복문"
      ]
    },
    {
      "cell_type": "code",
      "metadata": {
        "id": "xSa4BJrlC5gl"
      },
      "source": [
        "# 0부터 4까지 반복 출력\n",
        "for item in range(5):\n",
        "    print(item)"
      ],
      "execution_count": null,
      "outputs": []
    },
    {
      "cell_type": "code",
      "metadata": {
        "id": "AYO-Jaunw92V"
      },
      "source": [
        "# 5부터 9까지 반복 출력\n",
        "for i in range(5,10):\n",
        "    print(i)"
      ],
      "execution_count": null,
      "outputs": []
    },
    {
      "cell_type": "code",
      "metadata": {
        "id": "xOe8qt-G5uVv"
      },
      "source": [
        "# 리스트에 있는 값, 반복문을 통해 출력\n",
        "listbox = [2,4,6,8,10]\n",
        "for item in listbox:\n",
        "    print(item)"
      ],
      "execution_count": null,
      "outputs": []
    },
    {
      "cell_type": "code",
      "metadata": {
        "id": "-e3ldxTl9fC2"
      },
      "source": [
        "# 리스트에 있는 값 반복문을 통해 +1 한 값, 출력\n",
        "listbox = [2,4,6,8,10]\n",
        "for item in listbox:\n",
        "    # print(item + 1)\n",
        "    result = item + 1\n",
        "    print(result)"
      ],
      "execution_count": null,
      "outputs": []
    },
    {
      "cell_type": "code",
      "metadata": {
        "id": "8FfABDZt9QL2"
      },
      "source": [
        "# 리스트에 있는 문자열 출력\n",
        "listbox = ['네모','세모','동그라미']\n",
        "for i in listbox:\n",
        "    print(i)"
      ],
      "execution_count": null,
      "outputs": []
    },
    {
      "cell_type": "code",
      "metadata": {
        "id": "HbAA3JX11HBu"
      },
      "source": [
        "# 리스트에 있는 문자열과 인덱스값 출력\n",
        "listbox = ['네모','세모','동그라미', '별']\n",
        "for index, item in enumerate(listbox):\n",
        "    print(index)\n",
        "    print(item)"
      ],
      "execution_count": null,
      "outputs": []
    },
    {
      "cell_type": "code",
      "metadata": {
        "id": "8dkdcNRI2tUu"
      },
      "source": [
        "# Tip (print(f스트링))\n",
        "for index, item in enumerate(listbox):\n",
        "    print(f'인덱스{index}인 값은{item}입니다.')"
      ],
      "execution_count": null,
      "outputs": []
    },
    {
      "cell_type": "markdown",
      "metadata": {
        "id": "bcxCI9tCvzAU"
      },
      "source": [
        "### Quiz"
      ]
    },
    {
      "cell_type": "code",
      "metadata": {
        "id": "FnDj6uJ7ixCz"
      },
      "source": [
        "# 리스트에 있는 name, age, phone 컬럼명을 반복문을 통해 출력하시오\n",
        "cols = ['name', 'age', 'phone']\n",
        "for col in cols:\n",
        "    print(col)"
      ],
      "execution_count": null,
      "outputs": []
    },
    {
      "cell_type": "markdown",
      "metadata": {
        "id": "j7bxnMRkCvee"
      },
      "source": [
        "## 함수"
      ]
    },
    {
      "cell_type": "markdown",
      "metadata": {
        "id": "xwknzPFZqLC9"
      },
      "source": [
        "### 기본함수"
      ]
    },
    {
      "cell_type": "code",
      "metadata": {
        "id": "v-5HTz-UoCrC"
      },
      "source": [
        "# 함수 정의\n",
        "def hello():\n",
        "    print(\"안녕하세요!\")"
      ],
      "execution_count": null,
      "outputs": []
    },
    {
      "cell_type": "code",
      "metadata": {
        "id": "XLcJacqLoOKV",
        "colab": {
          "base_uri": "https://localhost:8080/"
        },
        "outputId": "87c95f01-2a55-482e-d4de-5c9e2aa8a5b2"
      },
      "source": [
        "# 함수 호출\n",
        "hello()"
      ],
      "execution_count": null,
      "outputs": [
        {
          "output_type": "stream",
          "name": "stdout",
          "text": [
            "안녕하세요!\n"
          ]
        }
      ]
    },
    {
      "cell_type": "markdown",
      "metadata": {
        "id": "m8UUcfokqNDe"
      },
      "source": [
        "### 함수(파라미터)"
      ]
    },
    {
      "cell_type": "code",
      "metadata": {
        "id": "T5ZMWdSLW0RD"
      },
      "source": [
        "# 함수 정의 (파라미터)\n",
        "def plus(x, y):\n",
        "    print(x+y)"
      ],
      "execution_count": null,
      "outputs": []
    },
    {
      "cell_type": "code",
      "metadata": {
        "id": "4bNKvl97Wx_N",
        "colab": {
          "base_uri": "https://localhost:8080/"
        },
        "outputId": "73069807-0077-448a-d0c3-1ffb7d85f83b"
      },
      "source": [
        "# 함수 호출\n",
        "a=2\n",
        "b=3\n",
        "plus(a,b)"
      ],
      "execution_count": null,
      "outputs": [
        {
          "output_type": "stream",
          "name": "stdout",
          "text": [
            "5\n"
          ]
        }
      ]
    },
    {
      "cell_type": "markdown",
      "metadata": {
        "id": "EmP4p9izqREt"
      },
      "source": [
        "### 함수(리턴 값)"
      ]
    },
    {
      "cell_type": "code",
      "metadata": {
        "id": "QbUnPQhtpYBN"
      },
      "source": [
        "# 함수 정의 (리턴 값)\n",
        "def plus(x, y):\n",
        "    result = x+y\n",
        "    return result "
      ],
      "execution_count": null,
      "outputs": []
    },
    {
      "cell_type": "code",
      "metadata": {
        "id": "WRli89l4pYK2",
        "colab": {
          "base_uri": "https://localhost:8080/"
        },
        "outputId": "de47666c-6cf7-41de-e45f-8a06486bf6e9"
      },
      "source": [
        "# 함수 호출\n",
        "a = plus(2,3)\n",
        "print(a)"
      ],
      "execution_count": null,
      "outputs": [
        {
          "output_type": "stream",
          "name": "stdout",
          "text": [
            "5\n"
          ]
        }
      ]
    },
    {
      "cell_type": "code",
      "metadata": {
        "id": "Mvx-fayoplXp"
      },
      "source": [
        "# 리턴 값 받기\n"
      ],
      "execution_count": null,
      "outputs": []
    },
    {
      "cell_type": "code",
      "metadata": {
        "id": "AcTLatFGwXV9",
        "colab": {
          "base_uri": "https://localhost:8080/"
        },
        "outputId": "18e63dcd-4be0-4920-e6f7-ef28fa40f122"
      },
      "source": [
        "# 리턴값이 2개 (최소, 최대값을 구하는 함수)\n",
        "listbox = [15, 46, 78, 24, 56]\n",
        "def min_max(data):\n",
        "    mi = min(data)\n",
        "    ma = max(data)\n",
        "    return mi, ma\n",
        "\n",
        "a, b = min_max(listbox)\n",
        "print(a,b)"
      ],
      "execution_count": null,
      "outputs": [
        {
          "output_type": "stream",
          "name": "stdout",
          "text": [
            "15 78\n"
          ]
        }
      ]
    },
    {
      "cell_type": "code",
      "metadata": {
        "colab": {
          "base_uri": "https://localhost:8080/"
        },
        "id": "s0AfIdrZ5Vkg",
        "outputId": "1d83173d-f7dc-458a-c039-581d1087960b"
      },
      "source": [
        "# 평균을 구하는 함수\n",
        "listbox = [15, 46, 78, 24, 56]\n",
        "\n",
        "def mean(data):\n",
        "    return sum(data) / len(data)\n",
        "\n",
        "mean(listbox)\n"
      ],
      "execution_count": null,
      "outputs": [
        {
          "output_type": "execute_result",
          "data": {
            "text/plain": [
              "43.8"
            ]
          },
          "metadata": {},
          "execution_count": 29
        }
      ]
    },
    {
      "cell_type": "markdown",
      "metadata": {
        "id": "XoOMduOnwAGU"
      },
      "source": [
        "### Quiz"
      ]
    },
    {
      "cell_type": "code",
      "metadata": {
        "id": "jJD-lq6mwDfs",
        "colab": {
          "base_uri": "https://localhost:8080/"
        },
        "outputId": "5a1bfea5-3e88-4f9e-cc08-ee487dbe907e"
      },
      "source": [
        "# 주어진 리스트의 최대값 - 최소값을 구하는 함수를 만드시오\n",
        "# listbox = [15, 46, 78, 24, 56]\n",
        "\n",
        "def maxmin(data):\n",
        "    return max(data) - min(data)\n",
        "\n",
        "maxmin(listbox)"
      ],
      "execution_count": null,
      "outputs": [
        {
          "output_type": "execute_result",
          "data": {
            "text/plain": [
              "63"
            ]
          },
          "metadata": {},
          "execution_count": 31
        }
      ]
    },
    {
      "cell_type": "code",
      "metadata": {
        "id": "HDT8oaoBvJRl",
        "outputId": "14abeb93-3461-4737-b74e-e6f7d3821557",
        "colab": {
          "base_uri": "https://localhost:8080/"
        }
      },
      "source": [
        "78-15"
      ],
      "execution_count": null,
      "outputs": [
        {
          "output_type": "execute_result",
          "data": {
            "text/plain": [
              "63"
            ]
          },
          "metadata": {},
          "execution_count": 32
        }
      ]
    },
    {
      "cell_type": "code",
      "metadata": {
        "id": "u33Z_1iyvNfw"
      },
      "source": [],
      "execution_count": null,
      "outputs": []
    }
  ]
}